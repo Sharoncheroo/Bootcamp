{
 "cells": [
  {
   "cell_type": "code",
   "execution_count": 52,
   "metadata": {},
   "outputs": [],
   "source": [
    "# This is a demo task.\n",
    "# Write a function:\n",
    "# def solution(A)\n",
    "# that, given an array A of N integers, returns the smallest positive integer (greater than 0) that does not occur in A.\n",
    "# For example, given A = [1, 3, 6, 4, 1, 2], the function should return 5.\n",
    "# Given A = [1, 2, 3], the function should return 4.\n",
    "# Given A = [−1, −3], the function should return 1.\n",
    "# Write an efficient algorithm for the following assumptions:\n",
    "# N is an integer within the range [1..100,000];\n",
    "# each element of array A is an integer within the range [−1,000,000..1,000,000]."
   ]
  },
  {
   "cell_type": "code",
   "execution_count": 53,
   "metadata": {},
   "outputs": [],
   "source": [
    "import timeit"
   ]
  },
  {
   "cell_type": "code",
   "execution_count": 54,
   "metadata": {},
   "outputs": [
    {
     "name": "stdout",
     "output_type": "stream",
     "text": [
      "100\n"
     ]
    }
   ],
   "source": [
    "def solution1(A):\n",
    "    A = sorted(set(filter(lambda x: x > 0, A)))\n",
    "    if not A or A[0] > 1:\n",
    "        return 1\n",
    "    for i in range(1, len(A)):\n",
    "        if A[i] - A[i-1] > 1:\n",
    "            return A[i-1] + 1\n",
    "    return A[-1] + 1\n",
    "\n",
    "A = range(1, 100)\n",
    "print(solution1(A))\n"
   ]
  },
  {
   "cell_type": "code",
   "execution_count": 55,
   "metadata": {},
   "outputs": [
    {
     "name": "stdout",
     "output_type": "stream",
     "text": [
      "100\n"
     ]
    }
   ],
   "source": [
    "def solution2(A):\n",
    "    A = sorted(set(x for x in A if x >0))\n",
    "    if not A or A[0] > 1:\n",
    "        return 1\n",
    "    for i in range(1, len(A)):\n",
    "        if A[i] - A[i-1] > 1:\n",
    "            return A[i-1] + 1\n",
    "    return A[-1] + 1\n",
    "\n",
    "A = range(1, 100)\n",
    "print(solution2(A))\n"
   ]
  },
  {
   "cell_type": "code",
   "execution_count": 58,
   "metadata": {},
   "outputs": [
    {
     "name": "stdout",
     "output_type": "stream",
     "text": [
      "101\n"
     ]
    }
   ],
   "source": [
    "def solution3(A):\n",
    "    # Filter out non-positive numbers and convert to set\n",
    "    positives = {x for x in A if x > 0}\n",
    "    \n",
    "    # If no positive numbers or 1 is not present, return 1\n",
    "    if not positives or 1 not in positives:\n",
    "        return 1\n",
    "    \n",
    "    # Find the smallest missing positive integer\n",
    "    i = 1\n",
    "    while i in positives:\n",
    "        i += 1\n",
    "    return i\n",
    "\n",
    "A = range(1, 101)\n",
    "print(solution3(A))\n"
   ]
  },
  {
   "cell_type": "code",
   "execution_count": 57,
   "metadata": {},
   "outputs": [
    {
     "name": "stdout",
     "output_type": "stream",
     "text": [
      "0.056909200036898255\n",
      "0.06384950003121048\n",
      "0.037841000012122095\n"
     ]
    }
   ],
   "source": [
    "print(timeit.timeit(lambda :solution1(A), number=1000))\n",
    "\n",
    "print(timeit.timeit(lambda :solution2(A), number=1000))\n",
    "\n",
    "print(timeit.timeit(lambda :solution3(A), number=1000))"
   ]
  },
  {
   "cell_type": "code",
   "execution_count": null,
   "metadata": {},
   "outputs": [],
   "source": [
    "You are given an array A of N integers. In one move, you can pick a segment (a contigous fragment) of A \n",
    "and a positive integer X and then incrass all elements within that segment by X.\n",
    "An array is strictly increasing if each element (except for the last one) is smaller than the next element\n",
    "\n",
    "write a funtion:\n",
    "funtion solution(A):\n",
    "\n",
    "that given an array A of N integers, returns the minimum number of moves needed to make the array strictly inreasing"
   ]
  },
  {
   "cell_type": "code",
   "execution_count": 65,
   "metadata": {},
   "outputs": [
    {
     "name": "stdout",
     "output_type": "stream",
     "text": [
      "20\n"
     ]
    }
   ],
   "source": [
    "def solution(A):\n",
    "    moves = 0\n",
    "    min_value = A[0] + 1  # Initialize the minimum value for the first element\n",
    "\n",
    "    for i in range(1, len(A)):\n",
    "        if A[i] <= min_value:  # If the current element is not strictly greater than the previous one\n",
    "            moves += (min_value - A[i])  # Calculate the difference as the move\n",
    "            A[i] = min_value  # Adjust the current element to maintain the strictly increasing property\n",
    "        min_value = max(min_value, A[i] + 1)  # Update the minimum value for the next element\n",
    "\n",
    "    return moves\n",
    "\n",
    "# Example usage:\n",
    "A = [4, 2, 4, 1, 3, 5]\n",
    "print(solution(A))  \n"
   ]
  },
  {
   "cell_type": "code",
   "execution_count": 67,
   "metadata": {},
   "outputs": [
    {
     "name": "stdout",
     "output_type": "stream",
     "text": [
      "20\n"
     ]
    }
   ],
   "source": [
    "def sol(A):\n",
    "    moves = 0\n",
    "    min_value = A[0] + 1  # Initialize the minimum value for the first element\n",
    "\n",
    "    for i in range(1, len(A)):\n",
    "        if A[i] <= A[i-1]:  # If the current element is not strictly greater than the previous one\n",
    "            moves += (A[i-1] - A[i] + 1)  # Calculate the difference as the move\n",
    "            A[i] = A[i-1] + 1  # Adjust the current element to maintain the strictly increasing property\n",
    "        min_value = max(min_value, A[i] + 1)  # Update the minimum value for the next element\n",
    "\n",
    "    return moves\n",
    "\n",
    "# Example usage:\n",
    "A = [4, 2, 4, 1, 3, 5]\n",
    "print(sol(A))  # Output: 2\n"
   ]
  },
  {
   "cell_type": "code",
   "execution_count": null,
   "metadata": {},
   "outputs": [],
   "source": [
    "write a function:\n",
    "\n",
    "fuction solution(s):\n",
    " that given a string S returns a string representing a positive integer smaller than S\n",
    "WITH THE MINIMUM POSSIBLE SUM of digits\n",
    "If there is more than one such integer, return any of them\n",
    "the returned string can only consist of digits and may not contain the leading ZeroDivisionError\n",
    "\n",
    "write an efficient algorithm for the following assumptions:\n",
    " N is an integer with the range [2..100000];\n",
    "string S is made only of digits (0 - 9)\n",
    "S does not contain leading zeros\n"
   ]
  },
  {
   "cell_type": "code",
   "execution_count": 11,
   "metadata": {},
   "outputs": [
    {
     "name": "stdout",
     "output_type": "stream",
     "text": [
      "113\n"
     ]
    }
   ],
   "source": [
    "def solution(s):\n",
    "    # Convert the string to a list of digits for easy manipulation\n",
    "    num = list(map(int, s))\n",
    "    \n",
    "    # Decrement the leftmost digit that is not zero\n",
    "    for i in range(len(num)):\n",
    "        if num [i]> 0:\n",
    "            num[1] -= 1\n",
    "            break\n",
    "    \n",
    "    # Remove leading zeros if any\n",
    "    while num[0] == 0:\n",
    "        num.pop(0)\n",
    "    \n",
    "    # If the resulting number is empty, return \"0\"\n",
    "    if not num:\n",
    "        return \"0\"\n",
    "    \n",
    "    # Convert the list of digits back to a string and return\n",
    "    return \"\".join(map(str, num))\n",
    "\n",
    "# Example usage:\n",
    "s = \"123\"\n",
    "print(solution(s))  # Output: \"122\"\n"
   ]
  },
  {
   "cell_type": "code",
   "execution_count": 12,
   "metadata": {},
   "outputs": [
    {
     "name": "stdout",
     "output_type": "stream",
     "text": [
      "119\n"
     ]
    }
   ],
   "source": [
    "def solution(s):\n",
    "    num = list(map(int, s))  # Convert string to list of digits\n",
    "    \n",
    "    # Find the first non-one digit from left to right\n",
    "    i = 0\n",
    "    while i < len(num) and num[i] == 1:\n",
    "        i += 1\n",
    "    \n",
    "    # If all digits are 1, remove the last digit\n",
    "    if i == len(num):\n",
    "        num.pop()\n",
    "    # Otherwise, decrement the first non-one digit and all subsequent digits\n",
    "    else:\n",
    "        num[i] -= 1\n",
    "        for j in range(i + 1, len(num)):\n",
    "            num[j] = 9\n",
    "    \n",
    "    # Convert the list of digits back to a string and return\n",
    "    return \"\".join(map(str, num))\n",
    "\n",
    "# Example usage:\n",
    "s = \"123\"\n",
    "print(solution(s))  # Output: \"122\"\n"
   ]
  },
  {
   "cell_type": "code",
   "execution_count": 15,
   "metadata": {},
   "outputs": [
    {
     "name": "stdout",
     "output_type": "stream",
     "text": [
      "9\n"
     ]
    }
   ],
   "source": [
    "def solution(s):\n",
    "    num = list(map(int, s))  # Convert string to list of digits\n",
    "    \n",
    "    # Subtract 1 from the least significant digit\n",
    "    num[-1] -= 1\n",
    "    \n",
    "    # Handle cases where subtraction leads to a carry\n",
    "    for i in range(len(num) - 1, 0, -1):\n",
    "        if num[i] < 0:\n",
    "            num[i] += 10\n",
    "            num[i - 1] -= 1\n",
    "    \n",
    "    # Remove leading zeros if any\n",
    "    while num and num[0] == 0:\n",
    "        num.pop(0)\n",
    "    \n",
    "    # Convert the list of digits back to a string and return\n",
    "    return \"\".join(map(str, num))\n",
    "\n",
    "# Example usage:\n",
    "s = \"10\"\n",
    "print(solution(s))  # Output: \"122\"\n"
   ]
  },
  {
   "cell_type": "code",
   "execution_count": 16,
   "metadata": {},
   "outputs": [
    {
     "name": "stdout",
     "output_type": "stream",
     "text": [
      "213\n"
     ]
    }
   ],
   "source": [
    "def solution(s):\n",
    "    s = list(map(int, s))  # Convert string to list of integers\n",
    "    n = len(s)\n",
    "    \n",
    "    # Find the first position where s[i] > s[i+1]\n",
    "    i = n - 2\n",
    "    while i >= 0 and s[i] >= s[i + 1]:\n",
    "        i -= 1\n",
    "    \n",
    "    # If such a position is not found, then the number itself has maximum sum of digits\n",
    "    if i == -1:\n",
    "        return ''.join(map(str, s))\n",
    "    \n",
    "    # Find the largest digit to the right of s[i] but smaller than s[i]\n",
    "    j = n - 1\n",
    "    while s[i] <= s[j]:\n",
    "        j -= 1\n",
    "    \n",
    "    # Swap s[i] and s[j]\n",
    "    s[i], s[j] = s[j], s[i]\n",
    "    \n",
    "    # Reverse the digits after the position i\n",
    "    s[i+1:] = reversed(s[i+1:])\n",
    "    \n",
    "    # Convert the list of integers back to a string and return\n",
    "    return ''.join(map(str, s))\n",
    "\n",
    "\n",
    "# Example usage:\n",
    "s = \"123\"\n",
    "print(solution(s))  # Output: \"121\"\n"
   ]
  },
  {
   "cell_type": "code",
   "execution_count": 17,
   "metadata": {},
   "outputs": [
    {
     "name": "stdout",
     "output_type": "stream",
     "text": [
      "123\n"
     ]
    }
   ],
   "source": [
    "def solution(s):\n",
    "    s = list(map(int, s))  # Convert string to list of integers\n",
    "    n = len(s)\n",
    "    \n",
    "    # Find the first position where s[i] > s[i+1]\n",
    "    i = n - 2\n",
    "    while i >= 0 and s[i] <= s[i + 1]:\n",
    "        i -= 1\n",
    "    \n",
    "    # If such a position is not found, then the number itself has maximum sum of digits\n",
    "    if i == -1:\n",
    "        return ''.join(map(str, s))\n",
    "    \n",
    "    # Find the largest digit to the right of s[i] but smaller than s[i]\n",
    "    j = n - 1\n",
    "    while s[i] <= s[j]:\n",
    "        j -= 1\n",
    "    \n",
    "    # Swap s[i] and s[j]\n",
    "    s[i], s[j] = s[j], s[i]\n",
    "    \n",
    "    # Reverse the digits after the position i\n",
    "    s[i+1:] = sorted(s[i+1:])\n",
    "    \n",
    "    # Convert the list of integers back to a string and return\n",
    "    return ''.join(map(str, s))\n",
    "\n",
    "\n",
    "# Example usage:\n",
    "s = \"123\"\n",
    "print(solution(s))  # Output: \"109\"\n"
   ]
  },
  {
   "cell_type": "code",
   "execution_count": 3,
   "metadata": {},
   "outputs": [
    {
     "name": "stdout",
     "output_type": "stream",
     "text": [
      "Sum of digits: 6\n"
     ]
    }
   ],
   "source": [
    "def sum_digits(number):\n",
    "    # Initialize sum to 0\n",
    "    total_sum = 0\n",
    "    \n",
    "    # Convert the number to a string to iterate through its digits\n",
    "    #number_str = str(number)\n",
    "    \n",
    "    # Iterate through each digit in the string representation of the number\n",
    "    for digit in number:\n",
    "        # Convert the digit back to an integer and add it to the total sum\n",
    "        total_sum += int(digit)\n",
    "    \n",
    "    return total_sum\n",
    "\n",
    "# Test the function\n",
    "number = '123'\n",
    "print(\"Sum of digits:\", sum_digits(number))"
   ]
  },
  {
   "cell_type": "code",
   "execution_count": null,
   "metadata": {},
   "outputs": [],
   "source": [
    "def sum_digits(number):\n",
    "    # Initialize sum to 0\n",
    "    total_sum = 0\n",
    "  \n",
    "    for digit in number:\n",
    "        # Convert the digit back to an integer and add it to the total sum\n",
    "        total_sum += int(digit)\n",
    "    \n",
    "    return total_sum\n",
    "\n",
    "# Test the function\n",
    "number = '123'\n",
    "print(\"Sum of digits:\", sum_digits(number))"
   ]
  },
  {
   "cell_type": "code",
   "execution_count": 11,
   "metadata": {},
   "outputs": [
    {
     "data": {
      "text/plain": [
       "['1', '2', '3']"
      ]
     },
     "execution_count": 11,
     "metadata": {},
     "output_type": "execute_result"
    }
   ],
   "source": [
    "s = '123'\n",
    "d = list(s)\n",
    "d"
   ]
  },
  {
   "cell_type": "code",
   "execution_count": 10,
   "metadata": {},
   "outputs": [
    {
     "name": "stdout",
     "output_type": "stream",
     "text": [
      "[7503]\n"
     ]
    }
   ],
   "source": [
    "def solution(S):\n",
    "  num = int(S)\n",
    "  \n",
    "\n",
    "  #calculate sum of digits in range\n",
    "  sum_of_digits = [sum(int(digit) for digit in range(num))]\n",
    "  return sum_of_digits\n",
    "\n",
    "S = '123'\n",
    "print(solution(S))\n"
   ]
  },
  {
   "cell_type": "code",
   "execution_count": 5,
   "metadata": {},
   "outputs": [
    {
     "name": "stdout",
     "output_type": "stream",
     "text": [
      "The maximum possible integer smaller than 123 is: 321\n"
     ]
    }
   ],
   "source": [
    "def solution(s):\n",
    "    # Convert the input string to a list of digits\n",
    "    digits = [int(char) for char in s]\n",
    "\n",
    "    # Sort the digits in descending order\n",
    "    digits.sort(reverse=True)\n",
    "\n",
    "    # Initialize an empty result string\n",
    "    result = \"\"\n",
    "\n",
    "    # Start building the result string\n",
    "    for digit in digits:\n",
    "        # Append the digit to the result string\n",
    "        result += str(digit)\n",
    "\n",
    "    # Remove leading zeros (if any)\n",
    "    result = result.lstrip(\"0\")\n",
    "\n",
    "    # Return the result\n",
    "    return result\n",
    "\n",
    "# Example usage:\n",
    "input_string = \"123\"\n",
    "output = solution(input_string)\n",
    "print(f\"The maximum possible integer smaller than {input_string} is: {output}\")\n"
   ]
  }
 ],
 "metadata": {
  "kernelspec": {
   "display_name": "Python 3",
   "language": "python",
   "name": "python3"
  },
  "language_info": {
   "codemirror_mode": {
    "name": "ipython",
    "version": 3
   },
   "file_extension": ".py",
   "mimetype": "text/x-python",
   "name": "python",
   "nbconvert_exporter": "python",
   "pygments_lexer": "ipython3",
   "version": "3.11.0"
  }
 },
 "nbformat": 4,
 "nbformat_minor": 2
}
