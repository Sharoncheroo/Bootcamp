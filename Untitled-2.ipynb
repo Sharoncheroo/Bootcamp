{
 "cells": [
  {
   "cell_type": "markdown",
   "metadata": {},
   "source": [
    "Merge data\n",
    "\n",
    "join data/concat\n",
    "\n",
    "pivot\n",
    "\n",
    "Replace missing value with mean or median or mode\n",
    "\n",
    "Round off/truncate ==\n",
    "\n",
    "Date datatypes\n",
    "\n",
    "plot common graphs ==\n",
    "\n",
    "linear regression\n",
    "\n",
    "KNN"
   ]
  },
  {
   "cell_type": "code",
   "execution_count": 141,
   "metadata": {},
   "outputs": [],
   "source": [
    "import pandas as pd"
   ]
  },
  {
   "cell_type": "code",
   "execution_count": 142,
   "metadata": {},
   "outputs": [
    {
     "data": {
      "text/plain": [
       "(761, 14)"
      ]
     },
     "execution_count": 142,
     "metadata": {},
     "output_type": "execute_result"
    }
   ],
   "source": [
    "data = data = pd.read_excel(r\"C:\\Users\\Sharon\\Downloads\\biopics2.xlsx\")\n",
    "data.shape"
   ]
  },
  {
   "cell_type": "code",
   "execution_count": 143,
   "metadata": {},
   "outputs": [
    {
     "data": {
      "text/plain": [
       "0    White\n",
       "Name: subject_race, dtype: object"
      ]
     },
     "execution_count": 143,
     "metadata": {},
     "output_type": "execute_result"
    }
   ],
   "source": [
    "data['subject_race'].mode()"
   ]
  },
  {
   "cell_type": "code",
   "execution_count": 144,
   "metadata": {},
   "outputs": [
    {
     "data": {
      "text/plain": [
       "subject_race\n",
       "White                        428\n",
       "African American              35\n",
       "Multi racial                  24\n",
       "Hispanic (Latin American)     13\n",
       "Middle Eastern (White)        13\n",
       "Middle Eastern                11\n",
       "African                        9\n",
       "Hispanic (Latino)              6\n",
       "Hispanic (White)               6\n",
       "Asian                          5\n",
       "Native American                4\n",
       "Asian American                 3\n",
       "Indian                         2\n",
       "Caribbean                      2\n",
       "Mediterranean                  1\n",
       "Eurasian                       1\n",
       "Hispanic (Latina)              1\n",
       "Name: count, dtype: int64"
      ]
     },
     "execution_count": 144,
     "metadata": {},
     "output_type": "execute_result"
    }
   ],
   "source": [
    "data['subject_race'].value_counts()"
   ]
  },
  {
   "cell_type": "code",
   "execution_count": 145,
   "metadata": {},
   "outputs": [],
   "source": [
    "data['lead_actor_actress'] = data['lead_actor_actress'].fillna(\"unknown\")"
   ]
  },
  {
   "cell_type": "code",
   "execution_count": 146,
   "metadata": {},
   "outputs": [
    {
     "data": {
      "text/plain": [
       "subject_race\n",
       "White                        428\n",
       "African American              35\n",
       "Multi racial                  24\n",
       "Hispanic (Latin American)     13\n",
       "Middle Eastern (White)        13\n",
       "Middle Eastern                11\n",
       "African                        9\n",
       "Hispanic (Latino)              6\n",
       "Hispanic (White)               6\n",
       "Asian                          5\n",
       "Native American                4\n",
       "Asian American                 3\n",
       "Indian                         2\n",
       "Caribbean                      2\n",
       "Mediterranean                  1\n",
       "Eurasian                       1\n",
       "Hispanic (Latina)              1\n",
       "Name: count, dtype: int64"
      ]
     },
     "execution_count": 146,
     "metadata": {},
     "output_type": "execute_result"
    }
   ],
   "source": [
    "data['subject_race'].value_counts()"
   ]
  },
  {
   "cell_type": "code",
   "execution_count": 147,
   "metadata": {},
   "outputs": [
    {
     "name": "stdout",
     "output_type": "stream",
     "text": [
      "<class 'pandas.core.frame.DataFrame'>\n",
      "RangeIndex: 761 entries, 0 to 760\n",
      "Data columns (total 14 columns):\n",
      " #   Column              Non-Null Count  Dtype \n",
      "---  ------              --------------  ----- \n",
      " 0   title               761 non-null    object\n",
      " 1   site                761 non-null    object\n",
      " 2   country             761 non-null    object\n",
      " 3   year_release        761 non-null    int64 \n",
      " 4   box_office          761 non-null    object\n",
      " 5   director            761 non-null    object\n",
      " 6   number_of_subjects  761 non-null    int64 \n",
      " 7   subject             761 non-null    object\n",
      " 8   type_of_subject     761 non-null    object\n",
      " 9   race_known          761 non-null    object\n",
      " 10  subject_race        564 non-null    object\n",
      " 11  person_of_color     761 non-null    int64 \n",
      " 12  subject_sex         761 non-null    object\n",
      " 13  lead_actor_actress  761 non-null    object\n",
      "dtypes: int64(3), object(11)\n",
      "memory usage: 83.4+ KB\n"
     ]
    }
   ],
   "source": [
    "data.info()"
   ]
  },
  {
   "cell_type": "code",
   "execution_count": 148,
   "metadata": {},
   "outputs": [
    {
     "data": {
      "text/plain": [
       "subject_race\n",
       "False    564\n",
       "True     197\n",
       "Name: count, dtype: int64"
      ]
     },
     "execution_count": 148,
     "metadata": {},
     "output_type": "execute_result"
    }
   ],
   "source": [
    "data['subject_race'].isnull().value_counts()"
   ]
  },
  {
   "cell_type": "code",
   "execution_count": 149,
   "metadata": {},
   "outputs": [
    {
     "data": {
      "text/plain": [
       "title                   0\n",
       "site                    0\n",
       "country                 0\n",
       "year_release            0\n",
       "box_office              0\n",
       "director                0\n",
       "number_of_subjects      0\n",
       "subject                 0\n",
       "type_of_subject         0\n",
       "race_known              0\n",
       "subject_race          197\n",
       "person_of_color         0\n",
       "subject_sex             0\n",
       "lead_actor_actress      0\n",
       "dtype: int64"
      ]
     },
     "execution_count": 149,
     "metadata": {},
     "output_type": "execute_result"
    }
   ],
   "source": [
    "data.isnull().sum()"
   ]
  },
  {
   "cell_type": "code",
   "execution_count": 150,
   "metadata": {},
   "outputs": [],
   "source": [
    "data['subject_race'] = data['subject_race'].fillna(data['subject_race'].mode())"
   ]
  },
  {
   "cell_type": "code",
   "execution_count": 151,
   "metadata": {},
   "outputs": [
    {
     "name": "stdout",
     "output_type": "stream",
     "text": [
      "<class 'pandas.core.frame.DataFrame'>\n",
      "RangeIndex: 761 entries, 0 to 760\n",
      "Data columns (total 14 columns):\n",
      " #   Column              Non-Null Count  Dtype \n",
      "---  ------              --------------  ----- \n",
      " 0   title               761 non-null    object\n",
      " 1   site                761 non-null    object\n",
      " 2   country             761 non-null    object\n",
      " 3   year_release        761 non-null    int64 \n",
      " 4   box_office          761 non-null    object\n",
      " 5   director            761 non-null    object\n",
      " 6   number_of_subjects  761 non-null    int64 \n",
      " 7   subject             761 non-null    object\n",
      " 8   type_of_subject     761 non-null    object\n",
      " 9   race_known          761 non-null    object\n",
      " 10  subject_race        565 non-null    object\n",
      " 11  person_of_color     761 non-null    int64 \n",
      " 12  subject_sex         761 non-null    object\n",
      " 13  lead_actor_actress  761 non-null    object\n",
      "dtypes: int64(3), object(11)\n",
      "memory usage: 83.4+ KB\n"
     ]
    }
   ],
   "source": [
    "data.info()"
   ]
  },
  {
   "cell_type": "code",
   "execution_count": 152,
   "metadata": {},
   "outputs": [
    {
     "data": {
      "text/plain": [
       "title                   0\n",
       "site                    0\n",
       "country                 0\n",
       "year_release            0\n",
       "box_office              0\n",
       "director                0\n",
       "number_of_subjects      0\n",
       "subject                 0\n",
       "type_of_subject         0\n",
       "race_known              0\n",
       "subject_race          196\n",
       "person_of_color         0\n",
       "subject_sex             0\n",
       "lead_actor_actress      0\n",
       "dtype: int64"
      ]
     },
     "execution_count": 152,
     "metadata": {},
     "output_type": "execute_result"
    }
   ],
   "source": [
    "data.isnull().sum()"
   ]
  },
  {
   "cell_type": "code",
   "execution_count": 153,
   "metadata": {},
   "outputs": [],
   "source": [
    "data2=data[data['subject_race'].isnull()]\n",
    "\n"
   ]
  },
  {
   "cell_type": "code",
   "execution_count": 154,
   "metadata": {},
   "outputs": [
    {
     "data": {
      "text/plain": [
       "(761, 14)"
      ]
     },
     "execution_count": 154,
     "metadata": {},
     "output_type": "execute_result"
    }
   ],
   "source": [
    "data.shape"
   ]
  },
  {
   "cell_type": "code",
   "execution_count": 155,
   "metadata": {},
   "outputs": [
    {
     "data": {
      "text/html": [
       "<div>\n",
       "<style scoped>\n",
       "    .dataframe tbody tr th:only-of-type {\n",
       "        vertical-align: middle;\n",
       "    }\n",
       "\n",
       "    .dataframe tbody tr th {\n",
       "        vertical-align: top;\n",
       "    }\n",
       "\n",
       "    .dataframe thead th {\n",
       "        text-align: right;\n",
       "    }\n",
       "</style>\n",
       "<table border=\"1\" class=\"dataframe\">\n",
       "  <thead>\n",
       "    <tr style=\"text-align: right;\">\n",
       "      <th></th>\n",
       "      <th>title</th>\n",
       "      <th>site</th>\n",
       "      <th>country</th>\n",
       "      <th>year_release</th>\n",
       "      <th>box_office</th>\n",
       "      <th>director</th>\n",
       "      <th>number_of_subjects</th>\n",
       "      <th>subject</th>\n",
       "      <th>type_of_subject</th>\n",
       "      <th>race_known</th>\n",
       "      <th>subject_race</th>\n",
       "      <th>person_of_color</th>\n",
       "      <th>subject_sex</th>\n",
       "      <th>lead_actor_actress</th>\n",
       "    </tr>\n",
       "  </thead>\n",
       "  <tbody>\n",
       "    <tr>\n",
       "      <th>2</th>\n",
       "      <td>127 Hours</td>\n",
       "      <td>http://www.imdb.com/title/tt1542344/</td>\n",
       "      <td>US/UK</td>\n",
       "      <td>2010</td>\n",
       "      <td>$18.3M</td>\n",
       "      <td>Danny Boyle</td>\n",
       "      <td>1</td>\n",
       "      <td>Aron Ralston</td>\n",
       "      <td>Athlete</td>\n",
       "      <td>Unknown</td>\n",
       "      <td>NaN</td>\n",
       "      <td>0</td>\n",
       "      <td>Male</td>\n",
       "      <td>James Franco</td>\n",
       "    </tr>\n",
       "    <tr>\n",
       "      <th>4</th>\n",
       "      <td>20 Dates</td>\n",
       "      <td>http://www.imdb.com/title/tt0138987/</td>\n",
       "      <td>US</td>\n",
       "      <td>1998</td>\n",
       "      <td>$537K</td>\n",
       "      <td>Myles Berkowitz</td>\n",
       "      <td>1</td>\n",
       "      <td>Myles Berkowitz</td>\n",
       "      <td>Other</td>\n",
       "      <td>Unknown</td>\n",
       "      <td>NaN</td>\n",
       "      <td>0</td>\n",
       "      <td>Male</td>\n",
       "      <td>Myles Berkowitz</td>\n",
       "    </tr>\n",
       "    <tr>\n",
       "      <th>8</th>\n",
       "      <td>8 Seconds</td>\n",
       "      <td>http://www.imdb.com/title/tt0109021/</td>\n",
       "      <td>US</td>\n",
       "      <td>1994</td>\n",
       "      <td>$19.6M</td>\n",
       "      <td>John G. Avildsen</td>\n",
       "      <td>1</td>\n",
       "      <td>Lane Frost</td>\n",
       "      <td>Athlete</td>\n",
       "      <td>Unknown</td>\n",
       "      <td>NaN</td>\n",
       "      <td>0</td>\n",
       "      <td>Male</td>\n",
       "      <td>Luke Perry</td>\n",
       "    </tr>\n",
       "    <tr>\n",
       "      <th>9</th>\n",
       "      <td>84 Charing Cross Road</td>\n",
       "      <td>http://www.imdb.com/title/tt0090570/</td>\n",
       "      <td>US/UK</td>\n",
       "      <td>1987</td>\n",
       "      <td>$1.08M</td>\n",
       "      <td>David Hugh Jones</td>\n",
       "      <td>2</td>\n",
       "      <td>Frank Doel</td>\n",
       "      <td>Author</td>\n",
       "      <td>Unknown</td>\n",
       "      <td>NaN</td>\n",
       "      <td>0</td>\n",
       "      <td>Male</td>\n",
       "      <td>Anthony Hopkins</td>\n",
       "    </tr>\n",
       "    <tr>\n",
       "      <th>10</th>\n",
       "      <td>84 Charing Cross Road</td>\n",
       "      <td>http://www.imdb.com/title/tt0090570/</td>\n",
       "      <td>US/UK</td>\n",
       "      <td>1987</td>\n",
       "      <td>$1.08M</td>\n",
       "      <td>David Hugh Jones</td>\n",
       "      <td>2</td>\n",
       "      <td>Helene Hanff</td>\n",
       "      <td>Author</td>\n",
       "      <td>Unknown</td>\n",
       "      <td>NaN</td>\n",
       "      <td>0</td>\n",
       "      <td>Female</td>\n",
       "      <td>Anne Bancroft</td>\n",
       "    </tr>\n",
       "  </tbody>\n",
       "</table>\n",
       "</div>"
      ],
      "text/plain": [
       "                    title                                  site country  \\\n",
       "2               127 Hours  http://www.imdb.com/title/tt1542344/   US/UK   \n",
       "4                20 Dates  http://www.imdb.com/title/tt0138987/      US   \n",
       "8               8 Seconds  http://www.imdb.com/title/tt0109021/      US   \n",
       "9   84 Charing Cross Road  http://www.imdb.com/title/tt0090570/   US/UK   \n",
       "10  84 Charing Cross Road  http://www.imdb.com/title/tt0090570/   US/UK   \n",
       "\n",
       "    year_release box_office          director  number_of_subjects  \\\n",
       "2           2010     $18.3M       Danny Boyle                   1   \n",
       "4           1998      $537K   Myles Berkowitz                   1   \n",
       "8           1994     $19.6M  John G. Avildsen                   1   \n",
       "9           1987     $1.08M  David Hugh Jones                   2   \n",
       "10          1987     $1.08M  David Hugh Jones                   2   \n",
       "\n",
       "            subject type_of_subject race_known subject_race  person_of_color  \\\n",
       "2      Aron Ralston         Athlete    Unknown          NaN                0   \n",
       "4   Myles Berkowitz           Other    Unknown          NaN                0   \n",
       "8        Lane Frost         Athlete    Unknown          NaN                0   \n",
       "9        Frank Doel          Author    Unknown          NaN                0   \n",
       "10     Helene Hanff          Author    Unknown          NaN                0   \n",
       "\n",
       "   subject_sex lead_actor_actress  \n",
       "2         Male       James Franco  \n",
       "4         Male    Myles Berkowitz  \n",
       "8         Male         Luke Perry  \n",
       "9         Male    Anthony Hopkins  \n",
       "10      Female      Anne Bancroft  "
      ]
     },
     "execution_count": 155,
     "metadata": {},
     "output_type": "execute_result"
    }
   ],
   "source": [
    "data2.head()"
   ]
  },
  {
   "cell_type": "code",
   "execution_count": 156,
   "metadata": {},
   "outputs": [],
   "source": [
    "data['subject_race'] = data['subject_race'].fillna('white')"
   ]
  },
  {
   "cell_type": "code",
   "execution_count": 157,
   "metadata": {},
   "outputs": [
    {
     "data": {
      "text/html": [
       "<div>\n",
       "<style scoped>\n",
       "    .dataframe tbody tr th:only-of-type {\n",
       "        vertical-align: middle;\n",
       "    }\n",
       "\n",
       "    .dataframe tbody tr th {\n",
       "        vertical-align: top;\n",
       "    }\n",
       "\n",
       "    .dataframe thead th {\n",
       "        text-align: right;\n",
       "    }\n",
       "</style>\n",
       "<table border=\"1\" class=\"dataframe\">\n",
       "  <thead>\n",
       "    <tr style=\"text-align: right;\">\n",
       "      <th></th>\n",
       "      <th>title</th>\n",
       "      <th>site</th>\n",
       "      <th>country</th>\n",
       "      <th>year_release</th>\n",
       "      <th>box_office</th>\n",
       "      <th>director</th>\n",
       "      <th>number_of_subjects</th>\n",
       "      <th>subject</th>\n",
       "      <th>type_of_subject</th>\n",
       "      <th>race_known</th>\n",
       "      <th>subject_race</th>\n",
       "      <th>person_of_color</th>\n",
       "      <th>subject_sex</th>\n",
       "      <th>lead_actor_actress</th>\n",
       "    </tr>\n",
       "  </thead>\n",
       "  <tbody>\n",
       "    <tr>\n",
       "      <th>0</th>\n",
       "      <td>10 Rillington Place</td>\n",
       "      <td>http://www.imdb.com/title/tt0066730/</td>\n",
       "      <td>UK</td>\n",
       "      <td>1971</td>\n",
       "      <td>-</td>\n",
       "      <td>Richard Fleischer</td>\n",
       "      <td>1</td>\n",
       "      <td>John Christie</td>\n",
       "      <td>Criminal</td>\n",
       "      <td>Unknown</td>\n",
       "      <td>White</td>\n",
       "      <td>0</td>\n",
       "      <td>Male</td>\n",
       "      <td>Richard Attenborough</td>\n",
       "    </tr>\n",
       "    <tr>\n",
       "      <th>1</th>\n",
       "      <td>12 Years a Slave</td>\n",
       "      <td>http://www.imdb.com/title/tt2024544/</td>\n",
       "      <td>US/UK</td>\n",
       "      <td>2013</td>\n",
       "      <td>$56.7M</td>\n",
       "      <td>Steve McQueen</td>\n",
       "      <td>1</td>\n",
       "      <td>Solomon Northup</td>\n",
       "      <td>Other</td>\n",
       "      <td>Known</td>\n",
       "      <td>African American</td>\n",
       "      <td>1</td>\n",
       "      <td>Male</td>\n",
       "      <td>Chiwetel Ejiofor</td>\n",
       "    </tr>\n",
       "    <tr>\n",
       "      <th>2</th>\n",
       "      <td>127 Hours</td>\n",
       "      <td>http://www.imdb.com/title/tt1542344/</td>\n",
       "      <td>US/UK</td>\n",
       "      <td>2010</td>\n",
       "      <td>$18.3M</td>\n",
       "      <td>Danny Boyle</td>\n",
       "      <td>1</td>\n",
       "      <td>Aron Ralston</td>\n",
       "      <td>Athlete</td>\n",
       "      <td>Unknown</td>\n",
       "      <td>white</td>\n",
       "      <td>0</td>\n",
       "      <td>Male</td>\n",
       "      <td>James Franco</td>\n",
       "    </tr>\n",
       "    <tr>\n",
       "      <th>3</th>\n",
       "      <td>1987</td>\n",
       "      <td>http://www.imdb.com/title/tt2833074/</td>\n",
       "      <td>Canada</td>\n",
       "      <td>2014</td>\n",
       "      <td>-</td>\n",
       "      <td>Ricardo Trogi</td>\n",
       "      <td>1</td>\n",
       "      <td>Ricardo Trogi</td>\n",
       "      <td>Other</td>\n",
       "      <td>Known</td>\n",
       "      <td>White</td>\n",
       "      <td>0</td>\n",
       "      <td>Male</td>\n",
       "      <td>Jean-Carl Boucher</td>\n",
       "    </tr>\n",
       "    <tr>\n",
       "      <th>4</th>\n",
       "      <td>20 Dates</td>\n",
       "      <td>http://www.imdb.com/title/tt0138987/</td>\n",
       "      <td>US</td>\n",
       "      <td>1998</td>\n",
       "      <td>$537K</td>\n",
       "      <td>Myles Berkowitz</td>\n",
       "      <td>1</td>\n",
       "      <td>Myles Berkowitz</td>\n",
       "      <td>Other</td>\n",
       "      <td>Unknown</td>\n",
       "      <td>white</td>\n",
       "      <td>0</td>\n",
       "      <td>Male</td>\n",
       "      <td>Myles Berkowitz</td>\n",
       "    </tr>\n",
       "    <tr>\n",
       "      <th>...</th>\n",
       "      <td>...</td>\n",
       "      <td>...</td>\n",
       "      <td>...</td>\n",
       "      <td>...</td>\n",
       "      <td>...</td>\n",
       "      <td>...</td>\n",
       "      <td>...</td>\n",
       "      <td>...</td>\n",
       "      <td>...</td>\n",
       "      <td>...</td>\n",
       "      <td>...</td>\n",
       "      <td>...</td>\n",
       "      <td>...</td>\n",
       "      <td>...</td>\n",
       "    </tr>\n",
       "    <tr>\n",
       "      <th>756</th>\n",
       "      <td>Young Man with a Horn</td>\n",
       "      <td>http://www.imdb.com/title/tt0043153/</td>\n",
       "      <td>US</td>\n",
       "      <td>1950</td>\n",
       "      <td>-</td>\n",
       "      <td>Michael Curtiz</td>\n",
       "      <td>1</td>\n",
       "      <td>Bix Beiderbecke</td>\n",
       "      <td>Musician</td>\n",
       "      <td>Known</td>\n",
       "      <td>White</td>\n",
       "      <td>0</td>\n",
       "      <td>Male</td>\n",
       "      <td>Kirk Douglas</td>\n",
       "    </tr>\n",
       "    <tr>\n",
       "      <th>757</th>\n",
       "      <td>Young Mr. Lincoln</td>\n",
       "      <td>http://www.imdb.com/title/tt0032155/</td>\n",
       "      <td>US</td>\n",
       "      <td>1939</td>\n",
       "      <td>-</td>\n",
       "      <td>John Ford</td>\n",
       "      <td>1</td>\n",
       "      <td>Abraham Lincoln</td>\n",
       "      <td>World leader</td>\n",
       "      <td>Known</td>\n",
       "      <td>White</td>\n",
       "      <td>0</td>\n",
       "      <td>Male</td>\n",
       "      <td>Henry Fonda</td>\n",
       "    </tr>\n",
       "    <tr>\n",
       "      <th>758</th>\n",
       "      <td>Young Tom Edison</td>\n",
       "      <td>http://www.imdb.com/title/tt0033289/</td>\n",
       "      <td>US</td>\n",
       "      <td>1940</td>\n",
       "      <td>-</td>\n",
       "      <td>Norman Taurog</td>\n",
       "      <td>1</td>\n",
       "      <td>Thomas Edison</td>\n",
       "      <td>Other</td>\n",
       "      <td>Known</td>\n",
       "      <td>White</td>\n",
       "      <td>0</td>\n",
       "      <td>Male</td>\n",
       "      <td>Mickey Rooney</td>\n",
       "    </tr>\n",
       "    <tr>\n",
       "      <th>759</th>\n",
       "      <td>Young Winston</td>\n",
       "      <td>http://www.imdb.com/title/tt0069528/</td>\n",
       "      <td>US</td>\n",
       "      <td>1972</td>\n",
       "      <td>-</td>\n",
       "      <td>Richard Attenborough</td>\n",
       "      <td>1</td>\n",
       "      <td>Winston Churchill</td>\n",
       "      <td>World leader</td>\n",
       "      <td>Known</td>\n",
       "      <td>White</td>\n",
       "      <td>0</td>\n",
       "      <td>Male</td>\n",
       "      <td>Simon Ward</td>\n",
       "    </tr>\n",
       "    <tr>\n",
       "      <th>760</th>\n",
       "      <td>Your Cheatin' Heart</td>\n",
       "      <td>http://www.imdb.com/title/tt0058765/</td>\n",
       "      <td>US</td>\n",
       "      <td>1964</td>\n",
       "      <td>-</td>\n",
       "      <td>Gene Nelson</td>\n",
       "      <td>1</td>\n",
       "      <td>Hank Williams</td>\n",
       "      <td>Musician</td>\n",
       "      <td>Unknown</td>\n",
       "      <td>white</td>\n",
       "      <td>0</td>\n",
       "      <td>Male</td>\n",
       "      <td>George Hamilton</td>\n",
       "    </tr>\n",
       "  </tbody>\n",
       "</table>\n",
       "<p>761 rows × 14 columns</p>\n",
       "</div>"
      ],
      "text/plain": [
       "                     title                                  site country  \\\n",
       "0      10 Rillington Place  http://www.imdb.com/title/tt0066730/      UK   \n",
       "1         12 Years a Slave  http://www.imdb.com/title/tt2024544/   US/UK   \n",
       "2                127 Hours  http://www.imdb.com/title/tt1542344/   US/UK   \n",
       "3                     1987  http://www.imdb.com/title/tt2833074/  Canada   \n",
       "4                 20 Dates  http://www.imdb.com/title/tt0138987/      US   \n",
       "..                     ...                                   ...     ...   \n",
       "756  Young Man with a Horn  http://www.imdb.com/title/tt0043153/      US   \n",
       "757      Young Mr. Lincoln  http://www.imdb.com/title/tt0032155/      US   \n",
       "758       Young Tom Edison  http://www.imdb.com/title/tt0033289/      US   \n",
       "759          Young Winston  http://www.imdb.com/title/tt0069528/      US   \n",
       "760    Your Cheatin' Heart  http://www.imdb.com/title/tt0058765/      US   \n",
       "\n",
       "     year_release box_office              director  number_of_subjects  \\\n",
       "0            1971          -     Richard Fleischer                   1   \n",
       "1            2013     $56.7M         Steve McQueen                   1   \n",
       "2            2010     $18.3M           Danny Boyle                   1   \n",
       "3            2014          -         Ricardo Trogi                   1   \n",
       "4            1998      $537K       Myles Berkowitz                   1   \n",
       "..            ...        ...                   ...                 ...   \n",
       "756          1950          -        Michael Curtiz                   1   \n",
       "757          1939          -             John Ford                   1   \n",
       "758          1940          -         Norman Taurog                   1   \n",
       "759          1972          -  Richard Attenborough                   1   \n",
       "760          1964          -           Gene Nelson                   1   \n",
       "\n",
       "               subject type_of_subject race_known      subject_race  \\\n",
       "0        John Christie        Criminal    Unknown             White   \n",
       "1      Solomon Northup           Other      Known  African American   \n",
       "2         Aron Ralston         Athlete    Unknown             white   \n",
       "3        Ricardo Trogi           Other      Known             White   \n",
       "4      Myles Berkowitz           Other    Unknown             white   \n",
       "..                 ...             ...        ...               ...   \n",
       "756    Bix Beiderbecke        Musician      Known             White   \n",
       "757    Abraham Lincoln    World leader      Known             White   \n",
       "758      Thomas Edison           Other      Known             White   \n",
       "759  Winston Churchill    World leader      Known             White   \n",
       "760      Hank Williams        Musician    Unknown             white   \n",
       "\n",
       "     person_of_color subject_sex    lead_actor_actress  \n",
       "0                  0        Male  Richard Attenborough  \n",
       "1                  1        Male      Chiwetel Ejiofor  \n",
       "2                  0        Male          James Franco  \n",
       "3                  0        Male     Jean-Carl Boucher  \n",
       "4                  0        Male       Myles Berkowitz  \n",
       "..               ...         ...                   ...  \n",
       "756                0        Male          Kirk Douglas  \n",
       "757                0        Male           Henry Fonda  \n",
       "758                0        Male         Mickey Rooney  \n",
       "759                0        Male            Simon Ward  \n",
       "760                0        Male       George Hamilton  \n",
       "\n",
       "[761 rows x 14 columns]"
      ]
     },
     "execution_count": 157,
     "metadata": {},
     "output_type": "execute_result"
    }
   ],
   "source": [
    "data"
   ]
  },
  {
   "cell_type": "code",
   "execution_count": 158,
   "metadata": {},
   "outputs": [
    {
     "data": {
      "text/plain": [
       "title                 0\n",
       "site                  0\n",
       "country               0\n",
       "year_release          0\n",
       "box_office            0\n",
       "director              0\n",
       "number_of_subjects    0\n",
       "subject               0\n",
       "type_of_subject       0\n",
       "race_known            0\n",
       "subject_race          0\n",
       "person_of_color       0\n",
       "subject_sex           0\n",
       "lead_actor_actress    0\n",
       "dtype: int64"
      ]
     },
     "execution_count": 158,
     "metadata": {},
     "output_type": "execute_result"
    }
   ],
   "source": [
    "data.isnull().sum()"
   ]
  }
 ],
 "metadata": {
  "kernelspec": {
   "display_name": "Python 3",
   "language": "python",
   "name": "python3"
  },
  "language_info": {
   "codemirror_mode": {
    "name": "ipython",
    "version": 3
   },
   "file_extension": ".py",
   "mimetype": "text/x-python",
   "name": "python",
   "nbconvert_exporter": "python",
   "pygments_lexer": "ipython3",
   "version": "3.11.0"
  }
 },
 "nbformat": 4,
 "nbformat_minor": 2
}
