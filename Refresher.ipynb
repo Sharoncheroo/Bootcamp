{
 "cells": [
  {
   "cell_type": "code",
   "execution_count": 1,
   "metadata": {},
   "outputs": [
    {
     "data": {
      "text/plain": [
       "1"
      ]
     },
     "execution_count": 1,
     "metadata": {},
     "output_type": "execute_result"
    }
   ],
   "source": [
    "#Arrays, mutable\n",
    "items = [1,\"sharon\", \"cherotich\"]\n",
    "items[0]"
   ]
  },
  {
   "cell_type": "code",
   "execution_count": 6,
   "metadata": {},
   "outputs": [
    {
     "data": {
      "text/plain": [
       "1"
      ]
     },
     "execution_count": 6,
     "metadata": {},
     "output_type": "execute_result"
    }
   ],
   "source": [
    "#Tuples, no changes, cannot be assigned\n",
    "x = (1, 2, 3, 5)\n",
    "x[3]\n",
    "#len(x)\n",
    "x.count(5)"
   ]
  },
  {
   "cell_type": "code",
   "execution_count": 7,
   "metadata": {},
   "outputs": [
    {
     "data": {
      "text/plain": [
       "(1, 2, 4, 6, 1, 2, 4, 6, 1, 2, 4, 6, 1, 2, 4, 6, 1, 2, 4, 6)"
      ]
     },
     "execution_count": 7,
     "metadata": {},
     "output_type": "execute_result"
    }
   ],
   "source": [
    "X = (1, 2, 4, 6) * 5\n",
    "X"
   ]
  },
  {
   "cell_type": "code",
   "execution_count": 10,
   "metadata": {},
   "outputs": [
    {
     "name": "stdout",
     "output_type": "stream",
     "text": [
      "<class 'str'>\n"
     ]
    }
   ],
   "source": [
    "aTuple = (\"Orange\")\n",
    "print(type(aTuple))"
   ]
  },
  {
   "cell_type": "code",
   "execution_count": 11,
   "metadata": {},
   "outputs": [
    {
     "data": {
      "text/plain": [
       "'Red'"
      ]
     },
     "execution_count": 11,
     "metadata": {},
     "output_type": "execute_result"
    }
   ],
   "source": [
    "aTuple = \"Yellow\", 20, \"Red\"\n",
    "a, b, c = aTuple\n",
    "\n",
    "c"
   ]
  },
  {
   "cell_type": "code",
   "execution_count": 13,
   "metadata": {},
   "outputs": [
    {
     "name": "stdout",
     "output_type": "stream",
     "text": [
      "[30, 40, 50]\n",
      "[10, 20, 30, 40]\n",
      "[40, 50, 60, 70, 80]\n"
     ]
    }
   ],
   "source": [
    "alist = [10,20,30,40,50,60,70,80]\n",
    "print(alist[2:5])\n",
    "print(alist[:4])\n",
    "print(alist[3:])\n"
   ]
  },
  {
   "cell_type": "code",
   "execution_count": 15,
   "metadata": {},
   "outputs": [
    {
     "name": "stdout",
     "output_type": "stream",
     "text": [
      "[10, 7, 8, 40, 50, 60, 70, 80]\n"
     ]
    }
   ],
   "source": [
    "alist = [10,20,30,40,50,60,70,80]\n",
    "alist[1:3] = [7,8]\n",
    "print(alist)"
   ]
  },
  {
   "cell_type": "code",
   "execution_count": 18,
   "metadata": {},
   "outputs": [],
   "source": [
    "list1=[2,8,7]"
   ]
  },
  {
   "cell_type": "markdown",
   "metadata": {},
   "source": [
    "Loops: For & While"
   ]
  },
  {
   "cell_type": "code",
   "execution_count": 28,
   "metadata": {},
   "outputs": [
    {
     "name": "stdout",
     "output_type": "stream",
     "text": [
      "315\n"
     ]
    }
   ],
   "source": [
    "list1 = 0\n",
    "for i in range(1, 100):\n",
    "  if (i % 3 == 0) & (i % 5 == 0):\n",
    "    list1 += i\n",
    "print(list1)\n"
   ]
  },
  {
   "cell_type": "code",
   "execution_count": 29,
   "metadata": {},
   "outputs": [
    {
     "name": "stdout",
     "output_type": "stream",
     "text": [
      "15\n",
      "30\n",
      "45\n",
      "60\n",
      "75\n",
      "90\n"
     ]
    }
   ],
   "source": [
    "for i in range(1, 100):\n",
    "  if (i % 3 == 0) & (i % 5 == 0):\n",
    "    print(i)"
   ]
  },
  {
   "cell_type": "code",
   "execution_count": 73,
   "metadata": {},
   "outputs": [
    {
     "name": "stdout",
     "output_type": "stream",
     "text": [
      "23\n"
     ]
    }
   ],
   "source": [
    "list3 = [7, -2, 5, 4, 4, 3, -1, -2, -3, -5, -7]\n",
    "total1 = 0\n",
    "for i in list3:\n",
    "  if i > 0:\n",
    "    total1 += i\n",
    "\n",
    "print(total1)\n"
   ]
  },
  {
   "cell_type": "code",
   "execution_count": 76,
   "metadata": {},
   "outputs": [
    {
     "name": "stdout",
     "output_type": "stream",
     "text": [
      "7\n"
     ]
    }
   ],
   "source": [
    "list4 = [7, -2, 5, 4, 4, 3, -1, -2, -3, -5, -7]\n",
    "total2 = 0\n",
    "i = 0\n",
    "while list4[i] > 0:\n",
    "  if list4[i] < 0:\n",
    "    continue\n",
    "  total2 +=list4[i]\n",
    "  i +=1\n",
    "print(total2)"
   ]
  },
  {
   "cell_type": "code",
   "execution_count": 68,
   "metadata": {},
   "outputs": [
    {
     "name": "stdout",
     "output_type": "stream",
     "text": [
      "1\n",
      "2\n",
      "4\n",
      "5\n",
      "2\n"
     ]
    }
   ],
   "source": [
    "big_number_list = [1, 2, -1, 4, -5, 5, 2, -9]\n",
    "\n",
    "# Print only positive numbers:\n",
    "for i in big_number_list:\n",
    "  if i < 0:\n",
    "    continue\n",
    "  print(i)"
   ]
  },
  {
   "cell_type": "code",
   "execution_count": 59,
   "metadata": {},
   "outputs": [
    {
     "name": "stdout",
     "output_type": "stream",
     "text": [
      "7\n",
      "21\n",
      "20\n",
      "18\n",
      "15\n",
      "10\n"
     ]
    },
    {
     "ename": "IndexError",
     "evalue": "list index out of range",
     "output_type": "error",
     "traceback": [
      "\u001b[1;31m---------------------------------------------------------------------------\u001b[0m",
      "\u001b[1;31mIndexError\u001b[0m                                Traceback (most recent call last)",
      "\u001b[1;32mUntitled-1.ipynb Cell 13\u001b[0m line \u001b[0;36m7\n\u001b[0;32m      <a href='vscode-notebook-cell:Untitled-1.ipynb?jupyter-notebook#X15sdW50aXRsZWQ%3D?line=4'>5</a>\u001b[0m total2 \u001b[39m+\u001b[39m\u001b[39m=\u001b[39mlist4[i]\n\u001b[0;32m      <a href='vscode-notebook-cell:Untitled-1.ipynb?jupyter-notebook#X15sdW50aXRsZWQ%3D?line=5'>6</a>\u001b[0m i \u001b[39m+\u001b[39m\u001b[39m=\u001b[39m\u001b[39m1\u001b[39m\n\u001b[1;32m----> <a href='vscode-notebook-cell:Untitled-1.ipynb?jupyter-notebook#X15sdW50aXRsZWQ%3D?line=6'>7</a>\u001b[0m \u001b[39mif\u001b[39;00m list4[i] \u001b[39m<\u001b[39m \u001b[39m0\u001b[39m:\n\u001b[0;32m      <a href='vscode-notebook-cell:Untitled-1.ipynb?jupyter-notebook#X15sdW50aXRsZWQ%3D?line=7'>8</a>\u001b[0m   \u001b[39mprint\u001b[39m(total2)\n",
      "\u001b[1;31mIndexError\u001b[0m: list index out of range"
     ]
    }
   ],
   "source": [
    "list4 = [7, -2, 5, 4, 4, 3, -1, -2, -3, -5, -7]\n",
    "total2 = 0\n",
    "i = 0\n",
    "while True:\n",
    "  total2 +=list4[i]\n",
    "  i +=1\n",
    "  if list4[i] < 0:\n",
    "    print(total2)"
   ]
  },
  {
   "cell_type": "code",
   "execution_count": 63,
   "metadata": {},
   "outputs": [
    {
     "name": "stdout",
     "output_type": "stream",
     "text": [
      "5, 9, 13, "
     ]
    }
   ],
   "source": [
    "for i in range (5, 15, 4):\n",
    "  print (i, end=', ')"
   ]
  },
  {
   "cell_type": "code",
   "execution_count": 81,
   "metadata": {},
   "outputs": [
    {
     "name": "stdout",
     "output_type": "stream",
     "text": [
      "5,3,1,"
     ]
    }
   ],
   "source": [
    "for num in range(5,0,-2):\n",
    "\n",
    "  print(num, end = \",\")"
   ]
  },
  {
   "cell_type": "code",
   "execution_count": 78,
   "metadata": {},
   "outputs": [
    {
     "name": "stdout",
     "output_type": "stream",
     "text": [
      "10 Chair\n",
      "10 Table\n",
      "20 Chair\n",
      "20 Table\n"
     ]
    }
   ],
   "source": [
    "numbers = [10, 20]\n",
    "items = [\"Chair\", \"Table\"]\n",
    "for x in numbers:\n",
    "    for y in items:\n",
    "        print(x, y)"
   ]
  },
  {
   "cell_type": "code",
   "execution_count": 90,
   "metadata": {},
   "outputs": [
    {
     "name": "stdout",
     "output_type": "stream",
     "text": [
      "100\n"
     ]
    }
   ],
   "source": [
    "i =0\n",
    "while i < 100:\n",
    "  i+=2\n",
    "print(i)\n",
    "  "
   ]
  },
  {
   "cell_type": "code",
   "execution_count": 87,
   "metadata": {},
   "outputs": [
    {
     "name": "stdout",
     "output_type": "stream",
     "text": [
      "['ab', 'cd']\n"
     ]
    }
   ],
   "source": [
    "x = [\"ab\", \"cd\"]\n",
    "for i in x:\n",
    "  i.upper()\n",
    "print(x)"
   ]
  },
  {
   "cell_type": "code",
   "execution_count": 2,
   "metadata": {},
   "outputs": [
    {
     "name": "stdout",
     "output_type": "stream",
     "text": [
      "Hello\n",
      "worldworldworldworldworld\n"
     ]
    }
   ],
   "source": [
    "def say(message, times = 1):\n",
    "  print(message*times)\n",
    "say('Hello')\n",
    "say('world', 5)"
   ]
  },
  {
   "cell_type": "code",
   "execution_count": 88,
   "metadata": {},
   "outputs": [
    {
     "name": "stdout",
     "output_type": "stream",
     "text": [
      "F\n",
      "A\n",
      "M\n"
     ]
    }
   ],
   "source": [
    "x = \"fam\"\n",
    "for i in x:\n",
    "  print(i.upper())"
   ]
  },
  {
   "cell_type": "code",
   "execution_count": 91,
   "metadata": {},
   "outputs": [
    {
     "name": "stdout",
     "output_type": "stream",
     "text": [
      "10\n",
      "11\n",
      "12\n",
      "13\n"
     ]
    }
   ],
   "source": [
    "for num in range(10,14):\n",
    "  for i in range (2, num):\n",
    "    if num%i == 1:\n",
    "      print(num)\n",
    "      break"
   ]
  },
  {
   "cell_type": "code",
   "execution_count": 92,
   "metadata": {},
   "outputs": [
    {
     "name": "stdout",
     "output_type": "stream",
     "text": [
      "['john', 'sharo']\n"
     ]
    }
   ],
   "source": [
    "d = {\"john\":20, \"sharo\":45}\n",
    "print(list(d.keys()))"
   ]
  },
  {
   "cell_type": "code",
   "execution_count": 99,
   "metadata": {},
   "outputs": [
    {
     "data": {
      "text/plain": [
       "'shddj'"
      ]
     },
     "execution_count": 99,
     "metadata": {},
     "output_type": "execute_result"
    }
   ],
   "source": [
    "d = {\"john\":40, \"peter\":45, 40:\"shddj\"}\n",
    "d[40]"
   ]
  },
  {
   "cell_type": "code",
   "execution_count": 100,
   "metadata": {},
   "outputs": [],
   "source": [
    "d={}"
   ]
  },
  {
   "cell_type": "code",
   "execution_count": 101,
   "metadata": {},
   "outputs": [
    {
     "name": "stdout",
     "output_type": "stream",
     "text": [
      "30\n"
     ]
    }
   ],
   "source": [
    "var = 10\n",
    "for i in range(10):\n",
    "  for j in range(2, 10, 1):\n",
    "    if var % 2 == 0:\n",
    "      continue\n",
    "    var +=1\n",
    "  var +=1\n",
    "else:\n",
    "  var +=1\n",
    "print(var)"
   ]
  },
  {
   "cell_type": "code",
   "execution_count": 1,
   "metadata": {},
   "outputs": [
    {
     "name": "stdout",
     "output_type": "stream",
     "text": [
      "2\n"
     ]
    }
   ],
   "source": [
    "x = 0\n",
    "a = 0\n",
    "b = -5\n",
    "if a>0:\n",
    "  if b<0:\n",
    "    x +=5\n",
    "  elif a>5:\n",
    "    x +=4\n",
    "  else:\n",
    "    x +=3\n",
    "else:\n",
    "  x +=2\n",
    "print(x)"
   ]
  },
  {
   "cell_type": "code",
   "execution_count": 24,
   "metadata": {},
   "outputs": [
    {
     "name": "stdout",
     "output_type": "stream",
     "text": [
      "2\n",
      "[array([1, 2, 3]), array([0, 1, 4])]\n",
      "<class 'numpy.ndarray'>\n",
      "int32\n",
      "6\n"
     ]
    }
   ],
   "source": [
    "import numpy as np\n",
    "a = np.array([[1,2,3], [0,1,4]])\n",
    "print(a.ndim)\n",
    "b = list(a)\n",
    "print(b)\n",
    "print(type(a))\n",
    "print(a.dtype)\n",
    "print(a.size)"
   ]
  },
  {
   "cell_type": "code",
   "execution_count": 23,
   "metadata": {},
   "outputs": [
    {
     "ename": "ValueError",
     "evalue": "operands could not be broadcast together with shapes (6,) (5,) ",
     "output_type": "error",
     "traceback": [
      "\u001b[1;31m---------------------------------------------------------------------------\u001b[0m",
      "\u001b[1;31mValueError\u001b[0m                                Traceback (most recent call last)",
      "\u001b[1;32mUntitled-1.ipynb Cell 30\u001b[0m line \u001b[0;36m3\n\u001b[0;32m      <a href='vscode-notebook-cell:Untitled-1.ipynb?jupyter-notebook#X45sdW50aXRsZWQ%3D?line=0'>1</a>\u001b[0m a\u001b[39m=\u001b[39mnp\u001b[39m.\u001b[39mzeros(\u001b[39m6\u001b[39m)\n\u001b[0;32m      <a href='vscode-notebook-cell:Untitled-1.ipynb?jupyter-notebook#X45sdW50aXRsZWQ%3D?line=1'>2</a>\u001b[0m b\u001b[39m=\u001b[39mnp\u001b[39m.\u001b[39marange(\u001b[39m0\u001b[39m,\u001b[39m10\u001b[39m,\u001b[39m2\u001b[39m)\n\u001b[1;32m----> <a href='vscode-notebook-cell:Untitled-1.ipynb?jupyter-notebook#X45sdW50aXRsZWQ%3D?line=2'>3</a>\u001b[0m c\u001b[39m=\u001b[39ma\u001b[39m+\u001b[39;49mb\n\u001b[0;32m      <a href='vscode-notebook-cell:Untitled-1.ipynb?jupyter-notebook#X45sdW50aXRsZWQ%3D?line=3'>4</a>\u001b[0m \u001b[39mprint\u001b[39m(c[\u001b[39m4\u001b[39m])\n",
      "\u001b[1;31mValueError\u001b[0m: operands could not be broadcast together with shapes (6,) (5,) "
     ]
    }
   ],
   "source": [
    "a=np.zeros(6)\n",
    "b=np.arange(0,10,2)\n",
    "c=a+b\n",
    "print(c[4])"
   ]
  },
  {
   "cell_type": "code",
   "execution_count": 45,
   "metadata": {},
   "outputs": [
    {
     "ename": "SyntaxError",
     "evalue": "invalid character '−' (U+2212) (2325842784.py, line 12)",
     "output_type": "error",
     "traceback": [
      "\u001b[1;36m  Cell \u001b[1;32mIn[45], line 12\u001b[1;36m\u001b[0m\n\u001b[1;33m    def solution(A) for n in range(−1000000, 1000000, 1):\u001b[0m\n\u001b[1;37m                                   ^\u001b[0m\n\u001b[1;31mSyntaxError\u001b[0m\u001b[1;31m:\u001b[0m invalid character '−' (U+2212)\n"
     ]
    }
   ],
   "source": [
    "# This is a demo task.\n",
    "# Write a function:\n",
    "# def solution(A)\n",
    "# that, given an array A of N integers, returns the smallest positive integer (greater than 0) that does not occur in A.\n",
    "# For example, given A = [1, 3, 6, 4, 1, 2], the function should return 5.\n",
    "# Given A = [1, 2, 3], the function should return 4.\n",
    "# Given A = [−1, −3], the function should return 1.\n",
    "# Write an efficient algorithm for the following assumptions:\n",
    "# N is an integer within the range [1..100,000];\n",
    "# each element of array A is an integer within the range [−1,000,000..1,000,000].\n",
    "                                                     \n",
    "#def solution(A) for n in range(−1000000, 1000000, 1):\n",
    "def solution(A):\n",
    "  for i in A\n",
    "\n",
    "\n",
    "\n"
   ]
  },
  {
   "cell_type": "code",
   "execution_count": 48,
   "metadata": {},
   "outputs": [
    {
     "data": {
      "text/plain": [
       "2"
      ]
     },
     "execution_count": 48,
     "metadata": {},
     "output_type": "execute_result"
    }
   ],
   "source": [
    "# you can write to stdout for debugging purposes, e.g.\n",
    "# print(\"this is a debug message\")\n",
    "\n",
    "def solution(A):\n",
    "    A = sorted(set(filter(lambda x: x > 0, A)))\n",
    "    if not A or A[0] > 1:\n",
    "        return 1\n",
    "    for i in range(1, len(A)):\n",
    "        if A[i] - A[i-1] > 1:\n",
    "            return A[i-1] + 1\n",
    "    return A[-1] + 1\n",
    "\n",
    "B = [1, 5, 7, 8]\n",
    "print(solution(B))\n",
    "    \n",
    "    # Implement your solution here\n",
    "    #pass"
   ]
  },
  {
   "cell_type": "code",
   "execution_count": 49,
   "metadata": {},
   "outputs": [
    {
     "data": {
      "text/plain": [
       "2"
      ]
     },
     "execution_count": 49,
     "metadata": {},
     "output_type": "execute_result"
    }
   ],
   "source": [
    "def solution(A):\n",
    "    A = sorted(set(x for x in A if x >0))\n",
    "    if not A or A[0] > 1:\n",
    "        return 1\n",
    "    for i in range(1, len(A)):\n",
    "        if A[i] - A[i-1] > 1:\n",
    "            return A[i-1] + 1\n",
    "    return A[-1] + 1\n",
    "\n",
    "B = [1, 5, 7, 8]\n",
    "print(solution(B))\n",
    "print(solution(B))\n"
   ]
  },
  {
   "cell_type": "code",
   "execution_count": 5,
   "metadata": {},
   "outputs": [
    {
     "name": "stdout",
     "output_type": "stream",
     "text": [
      "[2, 4, 6, 8, 2, 10, 14, 18, 6]\n"
     ]
    }
   ],
   "source": [
    "numbers = [1, 2, 3, 4, 1, 5, 7, 9, 3]\n",
    "\n",
    "# list comprehension to create new list\n",
    "doubled_numbers = [num * 2 for num in numbers]\n",
    "\n",
    "print(doubled_numbers)"
   ]
  },
  {
   "cell_type": "code",
   "execution_count": 6,
   "metadata": {},
   "outputs": [
    {
     "name": "stdout",
     "output_type": "stream",
     "text": [
      "[2, 4, 6, 8, 2, 10, 14, 18, 6]\n"
     ]
    }
   ],
   "source": [
    "numbers = [1, 2, 3, 4, 1, 5, 7, 9, 3]\n",
    "doubled_numbers = []\n",
    "\n",
    "for num in numbers:\n",
    "    doubled_numbers.append(num*2)\n",
    "    \n",
    "print(doubled_numbers)"
   ]
  },
  {
   "cell_type": "code",
   "execution_count": 16,
   "metadata": {},
   "outputs": [
    {
     "name": "stdout",
     "output_type": "stream",
     "text": [
      "[0, 10, 20, 30, 40, 50, 60, 70, 80, 90]\n"
     ]
    }
   ],
   "source": [
    "# find even numbers that are divisible by 5\n",
    "num_list = [y for y in range(100) if y % 2 == 0 and y % 5 == 0]\n",
    "\n",
    "print(num_list)"
   ]
  },
  {
   "cell_type": "code",
   "execution_count": 12,
   "metadata": {},
   "outputs": [
    {
     "name": "stdout",
     "output_type": "stream",
     "text": [
      "[0, 10, 20, 30, 40, 50, 60, 70, 80, 90]\n"
     ]
    }
   ],
   "source": [
    "# find even numbers that are divisible by 5\n",
    "num_list = []\n",
    "for y in range(100):\n",
    "  if y % 2 == 0 and y % 5 == 0:\n",
    "    num_list.append(y)\n",
    "\n",
    "print(num_list)"
   ]
  },
  {
   "cell_type": "code",
   "execution_count": null,
   "metadata": {},
   "outputs": [],
   "source": [
    "from collections import Counter\n",
    "word = \"Sharon Cherotich\"\n",
    "vowels = \"aeiou\"\n",
    "\n",
    "# find vowel in the string \"Python\"\n",
    "result = [y for y in word if y in vowels]\n",
    "distinct = [*Counter(result)]\n",
    "\n",
    "print(result)\n",
    "#print(*Counter(result))\n",
    "print(len(distinct))"
   ]
  },
  {
   "cell_type": "code",
   "execution_count": 13,
   "metadata": {},
   "outputs": [
    {
     "name": "stdout",
     "output_type": "stream",
     "text": [
      "[[2, 4, 6, 8, 10], [3, 6, 9, 12, 15], [4, 8, 12, 16, 20]]\n"
     ]
    }
   ],
   "source": [
    "multiplication = []\n",
    "\n",
    "for i in range(2, 5):\n",
    "    row = []\n",
    "    for j in range(1, 6):\n",
    "        row.append(i * j)\n",
    "    multiplication.append(row)\n",
    "\n",
    "print(multiplication)"
   ]
  },
  {
   "cell_type": "code",
   "execution_count": 14,
   "metadata": {},
   "outputs": [
    {
     "name": "stdout",
     "output_type": "stream",
     "text": [
      "[[2, 4, 6, 8, 10], [3, 6, 9, 12, 15], [4, 8, 12, 16, 20]]\n"
     ]
    }
   ],
   "source": [
    "multiplication = [[i * j for j in range(1, 6)] for i in range(2, 5)]\n",
    "\n",
    "print(multiplication)"
   ]
  },
  {
   "cell_type": "code",
   "execution_count": 12,
   "metadata": {},
   "outputs": [
    {
     "name": "stdout",
     "output_type": "stream",
     "text": [
      "{'bread': 9, 'coffee': 'old list item only', 'milk': 10, 'tea': 20, 'buns': 'new list item only', 'honey': 60}\n",
      "6.600050255656242e-06\n",
      " \n",
      "[('milk', 10), ('honey', 60), ('bread', 9), ('tea', 20), ('coffee', 'old list item only'), ('buns', 'new list item only')]\n",
      " \n",
      "{'coffee': 'old list item only'}\n",
      " \n",
      "{'buns': 'new list item only'}\n"
     ]
    }
   ],
   "source": [
    "import timeit\n",
    "old_price = {\n",
    "    \"milk\": 40,\n",
    "    \"honey\": 535,\n",
    "    \"bread\": 60,\n",
    "    \"tea\" : 100,\n",
    "    \"coffee\": 150\n",
    "}\n",
    "new_price = {\n",
    "    \"milk\": 50,\n",
    "    \"honey\": 595,\n",
    "    \"bread\": 69,\n",
    "    \"tea\" : 120,\n",
    "    \"buns\": 20\n",
    "}\n",
    "#price_change2 = {key: new_price[key] - old_price[key] if key in old_price and key in new_price else key:\"old list item only\" if key in old_price else key:\"new list item only\" if key in new_price for key in set(old_price) | set(new_price)}\n",
    "\n",
    "price_change2 = {key: (new_price[key] - old_price[key]) if (key in old_price and key in new_price) \n",
    "                 else (\"old list item only\" if key in old_price else \"new list item only\") \n",
    "                 for key in set(old_price) | set(new_price)}\n",
    "\n",
    "# Order the price changes based on the order of items in old_price\n",
    "ordered_price_changes = [(item, price_change2[item]) for item in old_price | new_price]\n",
    "\n",
    "filtered_old_items_only = {key: value for key, value in price_change2.items() if value == 'old list item only'}\n",
    "filtered_new_items_only = {key: value for key, value in price_change2.items() if value == 'new list item only'}\n",
    "\n",
    "\n",
    "#filtered_price_change2 = {key: value for key, value in price_change2.items() if value != \"item not in old list\"}\n",
    "\n",
    "#filtered_noprice_change2 = {key: value for key, value in price_change2.items() if value == \"item not in old list\"}\n",
    "\n",
    "print(price_change2)\n",
    "print(timeit.timeit(lambda :price_change2, number = 1))\n",
    "print(\" \")\n",
    "print(ordered_price_changes)\n",
    "print(\" \")\n",
    "print(filtered_old_items_only)\n",
    "print(\" \")\n",
    "print(filtered_new_items_only)"
   ]
  },
  {
   "cell_type": "code",
   "execution_count": 35,
   "metadata": {},
   "outputs": [
    {
     "name": "stdout",
     "output_type": "stream",
     "text": [
      "[0, 1, 8, 27, 64, 125, 216, 343, 512, 729, 1000, 1331, 1728, 2197, 2744, 3375, 4096, 4913, 5832, 6859, 8000, 9261, 10648, 12167, 13824, 15625, 17576, 19683, 21952, 24389, 27000, 29791, 32768, 35937, 39304, 42875, 46656, 50653, 54872, 59319, 64000, 68921, 74088, 79507, 85184, 91125, 97336, 103823, 110592, 117649, 125000, 132651, 140608, 148877, 157464, 166375, 175616, 185193, 195112, 205379, 216000, 226981, 238328, 250047, 262144, 274625, 287496, 300763, 314432, 328509, 343000, 357911, 373248, 389017, 405224, 421875, 438976, 456533, 474552, 493039, 512000, 531441, 551368, 571787, 592704, 614125, 636056, 658503, 681472, 704969, 729000, 753571, 778688, 804357, 830584, 857375, 884736, 912673, 941192, 970299]\n",
      "0.0021917999256402254\n"
     ]
    }
   ],
   "source": [
    "import timeit\n",
    "numbers = range(100)\n",
    "cubed = [num**3 for num in numbers]\n",
    "print(cubed)\n",
    "print(timeit.timeit(lambda :cubed, number=10000))"
   ]
  },
  {
   "cell_type": "code",
   "execution_count": 36,
   "metadata": {},
   "outputs": [
    {
     "name": "stdout",
     "output_type": "stream",
     "text": [
      "[0, 1, 8, 27, 64, 125, 216, 343, 512, 729, 1000, 1331, 1728, 2197, 2744, 3375, 4096, 4913, 5832, 6859, 8000, 9261, 10648, 12167, 13824, 15625, 17576, 19683, 21952, 24389, 27000, 29791, 32768, 35937, 39304, 42875, 46656, 50653, 54872, 59319, 64000, 68921, 74088, 79507, 85184, 91125, 97336, 103823, 110592, 117649, 125000, 132651, 140608, 148877, 157464, 166375, 175616, 185193, 195112, 205379, 216000, 226981, 238328, 250047, 262144, 274625, 287496, 300763, 314432, 328509, 343000, 357911, 373248, 389017, 405224, 421875, 438976, 456533, 474552, 493039, 512000, 531441, 551368, 571787, 592704, 614125, 636056, 658503, 681472, 704969, 729000, 753571, 778688, 804357, 830584, 857375, 884736, 912673, 941192, 970299]\n",
      "0.2891881000250578\n"
     ]
    }
   ],
   "source": [
    "def cube(args):\n",
    "  cubed = []\n",
    "  for num in numbers:\n",
    "       num = num**3\n",
    "       cubed.append(num)\n",
    "  return cubed\n",
    "\n",
    "numbers = range(100)\n",
    "print(cube(numbers))\n",
    "print(timeit.timeit(lambda : cube(numbers), number =10000))"
   ]
  },
  {
   "cell_type": "code",
   "execution_count": 37,
   "metadata": {},
   "outputs": [
    {
     "name": "stdout",
     "output_type": "stream",
     "text": [
      "[0, 1, 8, 27, 64, 125, 216, 343, 512, 729, 1000, 1331, 1728, 2197, 2744, 3375, 4096, 4913, 5832, 6859, 8000, 9261, 10648, 12167, 13824, 15625, 17576, 19683, 21952, 24389, 27000, 29791, 32768, 35937, 39304, 42875, 46656, 50653, 54872, 59319, 64000, 68921, 74088, 79507, 85184, 91125, 97336, 103823, 110592, 117649, 125000, 132651, 140608, 148877, 157464, 166375, 175616, 185193, 195112, 205379, 216000, 226981, 238328, 250047, 262144, 274625, 287496, 300763, 314432, 328509, 343000, 357911, 373248, 389017, 405224, 421875, 438976, 456533, 474552, 493039, 512000, 531441, 551368, 571787, 592704, 614125, 636056, 658503, 681472, 704969, 729000, 753571, 778688, 804357, 830584, 857375, 884736, 912673, 941192, 970299]\n",
      "0.1428234000923112\n"
     ]
    }
   ],
   "source": [
    "def cube2(args):\n",
    "  cubed = [num**3 for num in numbers]\n",
    "  return cubed\n",
    "\n",
    "numbers = range(100)\n",
    "print(cube2(numbers))\n",
    "print(timeit.timeit(lambda : cube2(numbers), number =10000))"
   ]
  },
  {
   "cell_type": "code",
   "execution_count": 35,
   "metadata": {},
   "outputs": [
    {
     "name": "stdout",
     "output_type": "stream",
     "text": [
      "[27, 64, 125, 216, 343]\n"
     ]
    }
   ],
   "source": [
    "numbers = [5,6,7,9,3,9]\n",
    "print(cubed)"
   ]
  },
  {
   "cell_type": "code",
   "execution_count": 37,
   "metadata": {},
   "outputs": [
    {
     "data": {
      "text/plain": [
       "332833500"
      ]
     },
     "execution_count": 37,
     "metadata": {},
     "output_type": "execute_result"
    }
   ],
   "source": [
    "add = sum([number * number for number in range(1000)])\n",
    "add"
   ]
  },
  {
   "cell_type": "code",
   "execution_count": 9,
   "metadata": {},
   "outputs": [],
   "source": [
    "import random\n",
    "import timeit\n",
    "TAX_RATE = .08\n",
    "PRICES = [random.randrange(100) for _ in range(100_000)]\n",
    "def get_prices_with_map():\n",
    "     return list(map(get_price, PRICES))"
   ]
  },
  {
   "cell_type": "code",
   "execution_count": 10,
   "metadata": {},
   "outputs": [
    {
     "name": "stdout",
     "output_type": "stream",
     "text": [
      "0.0498021999374032\n",
      "0.053602100000716746\n",
      "0.07684620004147291\n"
     ]
    }
   ],
   "source": [
    "import random\n",
    "import timeit\n",
    "TAX_RATE = .08\n",
    "PRICES = [random.randrange(100) for _ in range(100_000)]\n",
    "def get_price(price):\n",
    "     return price * (1 + TAX_RATE)\n",
    "\n",
    "def get_prices_with_map():\n",
    "     return list(map(get_price, PRICES))\n",
    "\n",
    "def get_prices_with_comprehension():\n",
    "     return [get_price(price) for price in PRICES]\n",
    "\n",
    "def get_prices_with_loop():\n",
    "     prices = []\n",
    "     for price in PRICES:\n",
    "         prices.append(get_price(price))\n",
    "     return prices\n",
    "\n",
    "\n",
    "print(timeit.timeit(get_prices_with_map, number=1))\n",
    "\n",
    "\n",
    "print(timeit.timeit(get_prices_with_comprehension, number=1))\n",
    "\n",
    "print(timeit.timeit(get_prices_with_loop, number=1))\n"
   ]
  },
  {
   "cell_type": "code",
   "execution_count": 41,
   "metadata": {},
   "outputs": [
    {
     "data": {
      "text/plain": [
       "[True, False, True, False, True]"
      ]
     },
     "execution_count": 41,
     "metadata": {},
     "output_type": "execute_result"
    }
   ],
   "source": [
    "def is_odd(num):\n",
    "    return num % 2 != 0\n",
    "\n",
    "numbers = [1, 2, 3, 4, 5]\n",
    "result = [is_odd(num) for num in numbers]\n",
    "\n",
    "result"
   ]
  },
  {
   "cell_type": "code",
   "execution_count": 39,
   "metadata": {},
   "outputs": [
    {
     "data": {
      "text/plain": [
       "[1, 4, 3, 8, 5]"
      ]
     },
     "execution_count": 39,
     "metadata": {},
     "output_type": "execute_result"
    }
   ],
   "source": [
    "def is_even(num):\n",
    "    return num % 2 == 0\n",
    "\n",
    "def double_if_even(num):\n",
    "    return num * 2 if is_even(num) else num\n",
    "\n",
    "numbers = [1, 2, 3, 4, 5]\n",
    "result = [double_if_even(num) for num in numbers]\n",
    "\n",
    "result\n"
   ]
  },
  {
   "cell_type": "code",
   "execution_count": 43,
   "metadata": {},
   "outputs": [
    {
     "ename": "ZeroDivisionError",
     "evalue": "division by zero",
     "output_type": "error",
     "traceback": [
      "\u001b[1;31m---------------------------------------------------------------------------\u001b[0m",
      "\u001b[1;31mZeroDivisionError\u001b[0m                         Traceback (most recent call last)",
      "Cell \u001b[1;32mIn[43], line 2\u001b[0m\n\u001b[0;32m      1\u001b[0m numbers \u001b[38;5;241m=\u001b[39m [\u001b[38;5;241m1\u001b[39m, \u001b[38;5;241m2\u001b[39m, \u001b[38;5;241m0\u001b[39m, \u001b[38;5;241m4\u001b[39m, \u001b[38;5;241m0\u001b[39m, \u001b[38;5;241m6\u001b[39m]\n\u001b[1;32m----> 2\u001b[0m reciprocals \u001b[38;5;241m=\u001b[39m \u001b[43m[\u001b[49m\u001b[38;5;241;43m1\u001b[39;49m\u001b[38;5;241;43m/\u001b[39;49m\u001b[43mnum\u001b[49m\u001b[43m \u001b[49m\u001b[38;5;28;43;01mfor\u001b[39;49;00m\u001b[43m \u001b[49m\u001b[43mnum\u001b[49m\u001b[43m \u001b[49m\u001b[38;5;129;43;01min\u001b[39;49;00m\u001b[43m \u001b[49m\u001b[43mnumbers\u001b[49m\u001b[43m]\u001b[49m\n\u001b[0;32m      4\u001b[0m \u001b[38;5;28mprint\u001b[39m(reciprocals)\n",
      "Cell \u001b[1;32mIn[43], line 2\u001b[0m, in \u001b[0;36m<listcomp>\u001b[1;34m(.0)\u001b[0m\n\u001b[0;32m      1\u001b[0m numbers \u001b[38;5;241m=\u001b[39m [\u001b[38;5;241m1\u001b[39m, \u001b[38;5;241m2\u001b[39m, \u001b[38;5;241m0\u001b[39m, \u001b[38;5;241m4\u001b[39m, \u001b[38;5;241m0\u001b[39m, \u001b[38;5;241m6\u001b[39m]\n\u001b[1;32m----> 2\u001b[0m reciprocals \u001b[38;5;241m=\u001b[39m [\u001b[38;5;241;43m1\u001b[39;49m\u001b[38;5;241;43m/\u001b[39;49m\u001b[43mnum\u001b[49m \u001b[38;5;28;01mfor\u001b[39;00m num \u001b[38;5;129;01min\u001b[39;00m numbers]\n\u001b[0;32m      4\u001b[0m \u001b[38;5;28mprint\u001b[39m(reciprocals)\n",
      "\u001b[1;31mZeroDivisionError\u001b[0m: division by zero"
     ]
    }
   ],
   "source": [
    "numbers = [1, 2, 0, 4, 0, 6]\n",
    "reciprocals = [1/num for num in numbers]\n",
    "\n",
    "print(reciprocals)"
   ]
  },
  {
   "cell_type": "code",
   "execution_count": 42,
   "metadata": {},
   "outputs": [
    {
     "name": "stdout",
     "output_type": "stream",
     "text": [
      "[1.0, 0.5, None, 0.25, None, 0.16666666666666666]\n"
     ]
    }
   ],
   "source": [
    "def calculate_reciprocal(num):\n",
    "    try:\n",
    "        reciprocal = 1 / num\n",
    "        return reciprocal\n",
    "    except ZeroDivisionError:\n",
    "        return None  # Return None for zero values\n",
    "\n",
    "numbers = [1, 2, 0, 4, 0, 6]\n",
    "\n",
    "reciprocals = [calculate_reciprocal(num) for num in numbers]\n",
    "\n",
    "print(reciprocals)\n"
   ]
  }
 ],
 "metadata": {
  "kernelspec": {
   "display_name": "Python 3",
   "language": "python",
   "name": "python3"
  },
  "language_info": {
   "codemirror_mode": {
    "name": "ipython",
    "version": 3
   },
   "file_extension": ".py",
   "mimetype": "text/x-python",
   "name": "python",
   "nbconvert_exporter": "python",
   "pygments_lexer": "ipython3",
   "version": "3.11.0"
  }
 },
 "nbformat": 4,
 "nbformat_minor": 2
}
